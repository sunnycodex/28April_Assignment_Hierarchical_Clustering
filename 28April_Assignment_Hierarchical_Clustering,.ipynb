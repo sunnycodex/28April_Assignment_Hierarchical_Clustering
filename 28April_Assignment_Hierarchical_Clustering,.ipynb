{
 "cells": [
  {
   "cell_type": "markdown",
   "id": "f4061120-1091-4fc8-93a8-8e08004731c4",
   "metadata": {},
   "source": [
    "Q1. What is hierarchical clustering, and how is it different from other clustering techniques?\n",
    "--\n",
    "---\n",
    "Hierarchical clustering is a method of cluster analysis that seeks to build a hierarchy of clusters from a data set. It can be agglomerative or divisive, and uses a distance measure and a linkage criterion to merge or split the observations. The results are usually presented in a dendrogram.\n",
    "\n",
    "Here's how it differs from other clustering techniques:\n",
    "\n",
    "1. **Order of Clustering**: Hierarchical clustering involves creating clusters in a predefined order from top to bottom. Non-hierarchical clustering, on the other hand, involves the formation of new clusters by merging or splitting the clusters instead of following a hierarchical order.\n",
    "\n",
    "2. **Reliability**: Hierarchical clustering is considered less reliable than non-hierarchical clustering.\n",
    "\n",
    "3. **Speed**: Hierarchical clustering is slower than non-hierarchical clustering.\n",
    "\n",
    "4. **Handling of Errors**: Hierarchical clustering is problematic when dealing with data with a high level of error. Non-hierarchical clustering can work better even when there is an error.\n",
    "\n",
    "5. **Readability**: Hierarchical clustering is comparatively easier to read and understand.\n",
    "\n",
    "6. **Stability**: Hierarchical clustering is relatively unstable compared to non-hierarchical clustering."
   ]
  },
  {
   "cell_type": "markdown",
   "id": "bbf68cbf-aa69-4a52-8bbd-15a62ee5f35a",
   "metadata": {},
   "source": [
    "Q2. What are the two main types of hierarchical clustering algorithms? Describe each in brief.\n",
    "--\n",
    "---\n",
    "1. **Agglomerative Hierarchical Clustering**: This is a bottom-up approach, in which the algorithm starts with taking all data points as single clusters and merging them until one cluster is left. It considers each dataset as a single cluster at the beginning, and then starts combining the closest pair of clusters together. It does this until all the clusters are merged into a single cluster that contains all the datasets.\n",
    "\n",
    "2. **Divisive Hierarchical Clustering**: This is a top-down approach, where it initially considers the entire data as one group, and then iteratively splits the data into subgroups. If the number of a hierarchical clustering algorithm is known, then the process of division stops once the number of clusters is achieved. Else, the process stops when the data can be no more split, which means the subgroup obtained from the current iteration is the same as the one obtained from the previous iteration."
   ]
  },
  {
   "cell_type": "markdown",
   "id": "d4e12b67-a4ca-4552-80d4-f1cb8127960b",
   "metadata": {},
   "source": [
    "Q3. How do you determine the distance between two clusters in hierarchical clustering, and what are the common distance metrics used?\n",
    "--\n",
    "---\n",
    "In hierarchical clustering, the distance between two clusters is determined by the linkage method used. Here are some popular linkage methods:\n",
    "\n",
    "1. **Complete Linkage**: The distance between two clusters is defined as the longest distance between two points in each cluster.\n",
    "2. **Single Linkage**: The distance between two clusters is defined as the shortest distance between two points in each cluster.\n",
    "3. **Average Linkage**: The distance between two clusters is defined as the average distance between all pairs of points in the two clusters.\n",
    "4. **Ward Linkage**: The distance between two clusters is defined as the increase in the sum of squared errors when the two clusters are merged.\n",
    "\n",
    "As for the distance metrics, the most commonly used in hierarchical clustering are:\n",
    "\n",
    "1. **Euclidean Distance**: Useful when the data is continuous and has a normal distribution.\n",
    "2. **Manhattan Distance**: Useful when the data is categorical or binary.\n",
    "3. **Minkowski Distance**: A generalized metric for Euclidean distance and Manhattan distance.\n",
    "4. **Hamming Distance**: Used for categorical variables. If the value (categorical) is different, the distance is 1, otherwise, it is 0.\n",
    "5. **Cosine Distance**: Cosine of the angle between two vectors.\n",
    "6. **Pearson Correlation Distance**: Defined by subtracting the correlation coefficient from 1."
   ]
  },
  {
   "cell_type": "markdown",
   "id": "e0d9b85c-ea55-446c-9044-75a4ffc5ad12",
   "metadata": {},
   "source": [
    "Q4. How do you determine the optimal number of clusters in hierarchical clustering, and what are some common methods used for this purpose?\n",
    "--\n",
    "---\n",
    "Determining the optimal number of clusters in hierarchical clustering can be done using several methods:\n",
    "\n",
    "1. **Dendrogram Interpretation**: In the dendrogram produced by hierarchical clustering, locate the largest vertical difference between nodes, and in the middle pass a horizontal line. The number of vertical lines intersecting it is the optimal number of clusters.\n",
    "\n",
    "2. **Elbow Method**: Compute the clustering algorithm (e.g., k-means clustering) for different values of k. For each k, calculate the total within-cluster sum of square (wss). Plot the curve of wss according to the number of clusters k. The location of a bend (knee) in the plot is generally considered as an indicator of the appropriate number of clusters.\n",
    "\n",
    "3. **Silhouette Method**: This method calculates the average silhouette of observations for different values of k. A higher average silhouette indicates a better clustering solution.\n",
    "\n",
    "4. **Gap Statistic Method**: This method compares the total intracluster variation for different values of k with their expected values under null reference distribution of the data. The optimal number of clusters is usually where the gap statistic reaches its maximum."
   ]
  },
  {
   "cell_type": "markdown",
   "id": "40c5ebbf-990d-4b33-8672-a17f13b66ed6",
   "metadata": {},
   "source": [
    "Q5. What are dendrograms in hierarchical clustering, and how are they useful in analyzing the results?\n",
    "--\n",
    "---\n",
    "A dendrogram is a tree-like diagram that represents the hierarchical relationship between objects. It is most commonly created as an output from hierarchical clustering. The main use of a dendrogram is to work out the best way to allocate objects to clusters.\n",
    "\n",
    "Here's how a dendrogram is useful in analyzing the results of hierarchical clustering:\n",
    "\n",
    "1. **Visualizing the Clustering Process**: A dendrogram visually shows the process of merging or splitting clusters at each step of the hierarchical clustering algorithm.\n",
    "\n",
    "2. **Determining the Number of Clusters**: By drawing a horizontal line through the dendrogram, you can determine the number of clusters. Observations that are joined together below the line are in clusters.\n",
    "\n",
    "3. **Understanding Cluster Similarity**: The height at which any two objects are joined together in the dendrogram indicates their similarity. The lower the height, the more similar the objects.\n",
    "\n",
    "4. **Identifying Outliers**: Outliers will be merged very late in the process, so they will be visible as singleton clusters at the bottom of the dendrogram.\n",
    "\n",
    "5. **Understanding the Hierarchical Structure**: Dendrograms can help you understand the hierarchical structure of the clusters and how they are related."
   ]
  },
  {
   "cell_type": "markdown",
   "id": "2d362edd-bb80-4b60-a602-3f1456661ea6",
   "metadata": {},
   "source": [
    "Q6. Can hierarchical clustering be used for both numerical and categorical data? If yes, how are the distance metrics different for each type of data?\n",
    "--\n",
    "---\n",
    "Yes, hierarchical clustering can be used for both numerical and categorical data¹. However, the choice of distance metric may depend on the type of data being clustered.\n",
    "\n",
    "For **numerical data**, the most commonly used distance metric is the Euclidean distance. This metric calculates the straight-line distance between two points in a multi-dimensional space. It's useful when the data is continuous and has a normal distribution.\n",
    "\n",
    "For categorical data, the Manhattan distance or other distance metrics may be used. The Manhattan distance calculates the absolute difference between the coordinates of two points. It's useful when the data is categorical or binary.\n",
    "\n",
    "In addition to these, there are other distance metrics like Minkowski distance, which is a generalized metric for Euclidean and Manhattan distances and Hamming distance, which is used for categorical variables. If the value (categorical) is different, the distance is 1, otherwise, it is 0."
   ]
  },
  {
   "cell_type": "markdown",
   "id": "f279b8c1-9a06-4dab-8699-9ae0f5d40089",
   "metadata": {},
   "source": [
    "Q7. How can you use hierarchical clustering to identify outliers or anomalies in your data?\n",
    "--\n",
    "---\n",
    "Hierarchical clustering can be used to identify outliers or anomalies in your data in several ways:\n",
    "\n",
    "1. Agglomerative Hierarchical Clustering: In general, agglomerative hierarchical clustering is performed first, and then the outliers are identified unsupervisedly from the top to down of the clustering tree. However, if the dataset has outliers, they can affect the result of clustering by shifting the cluster centers, so it is important to distinguish between outliers and noisy data points.\n",
    "\n",
    "2. Statistical Hierarchical Clustering: A statistical hierarchical clustering algorithm can be used for both detecting anomalies and macro-clustering. The proposed algorithm is single-phased and uses statistical inference on the input data stream, resulting in statistical distributions that are constantly updated. This makes the classification adaptable, allowing agglomeration of outliers into clusters, tracking population evolution, and to be used without knowing the expected number of clusters and outliers.\n",
    "\n",
    "3. Decomposing Data Using Hierarchical Clustering: You can decompose the data using hierarchical clustering to identify potential outliers in a hierarchy. Such an approach gives you an understanding of likely outliers at multiple levels, which can be further validated using a standard outlier technique."
   ]
  }
 ],
 "metadata": {
  "kernelspec": {
   "display_name": "Python 3 (ipykernel)",
   "language": "python",
   "name": "python3"
  },
  "language_info": {
   "codemirror_mode": {
    "name": "ipython",
    "version": 3
   },
   "file_extension": ".py",
   "mimetype": "text/x-python",
   "name": "python",
   "nbconvert_exporter": "python",
   "pygments_lexer": "ipython3",
   "version": "3.10.8"
  }
 },
 "nbformat": 4,
 "nbformat_minor": 5
}
